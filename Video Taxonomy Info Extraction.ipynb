{
 "cells": [
  {
   "cell_type": "code",
   "execution_count": null,
   "id": "01f34920",
   "metadata": {},
   "outputs": [],
   "source": [
    "'''\n",
    "Licensed to the Apache Software Foundation (ASF) under one\n",
    "or more contributor license agreements.  See the NOTICE file\n",
    "distributed with this work for additional information\n",
    "regarding copyright ownership.  The ASF licenses this file\n",
    "to you under the Apache License, Version 2.0 (the\n",
    "\"License\"); you may not use this file except in compliance\n",
    "with the License.  You may obtain a copy of the License at\n",
    "\n",
    "  http://www.apache.org/licenses/LICENSE-2.0\n",
    "\n",
    "Unless required by applicable law or agreed to in writing,\n",
    "software distributed under the License is distributed on an\n",
    "\"AS IS\" BASIS, WITHOUT WARRANTIES OR CONDITIONS OF ANY\n",
    "KIND, either express or implied.  See the License for the\n",
    "specific language governing permissions and limitations\n",
    "under the License.   \n",
    "'''"
   ]
  },
  {
   "cell_type": "code",
   "execution_count": null,
   "id": "eaf97ef4",
   "metadata": {},
   "outputs": [],
   "source": [
    "#Sample code to extract metadata from a video file\n",
    "#\n",
    "# Author: Stephen Heisig\n",
    "# Changes: 3/23/2023"
   ]
  },
  {
   "cell_type": "code",
   "execution_count": null,
   "id": "dd3b9a18",
   "metadata": {},
   "outputs": [],
   "source": [
    "import ffmpeg\n",
    "import pandas as pd\n",
    "import xlsxwriter"
   ]
  },
  {
   "cell_type": "code",
   "execution_count": null,
   "id": "21a769b6",
   "metadata": {},
   "outputs": [],
   "source": [
    "#File to process\n",
    "#videoFileName = '/Users/Heisig/Library/CloudStorage/OneDrive-TheMountSinaiHospital/Percept_TRD_MountSinai/Percept_TRD_Analysis/PCT701/VideoDiary/20230309_07_20_35_daily/Video/PCT701_20230309_07_20_35_daily.MOV'\n",
    "videoFileName = '/Users/Heisig/Library/CloudStorage/Box-Box/Summit_TRD_MountSinai/Summit_TRD_Data/RCS814/RCS814_VideoDiary/WIN_20220831_20_07_48_Pro.mp4'"
   ]
  },
  {
   "cell_type": "code",
   "execution_count": null,
   "id": "3c7bdf63",
   "metadata": {},
   "outputs": [],
   "source": [
    "#Read the file info\n",
    "fileInfo = ffmpeg.probe(videoFileName)"
   ]
  },
  {
   "cell_type": "code",
   "execution_count": null,
   "id": "e1652fa5",
   "metadata": {},
   "outputs": [],
   "source": [
    "allFilesInfoDF = pd.DataFrame()\n",
    "\n",
    "#Data for this file\n",
    "videoDataDict = {}   \n",
    "videoDataDict['file_name'] = videoFileName\n",
    "videoDataDict['ParticipantID'] = 'RCS812'\n",
    "videoDataDict['genre'] = 'Diary'\n",
    "\n",
    "termList = ['Participant','Genre','Technical']\n",
    "\n",
    "termList = ['video codec','pix_fmt','color_space','avg_frame_rate','height','width',\n",
    "            'duration','rotate','audio codec','audio sample rate','channels','channel_layout',\n",
    "            'local_creation_time','format']\n",
    "    \n",
    "for idx in range(len(fileInfo['streams'])):\n",
    "    print('idx:',idx)\n",
    "    print(fileInfo['streams'][idx]['codec_type'])\n",
    "    if fileInfo['streams'][idx]['codec_type']=='video': \n",
    "       videoDataDict['video codec'] = fileInfo['streams'][idx]['codec_name']\n",
    "       print('video codec: ',fileInfo['streams'][idx]['codec_name']) \n",
    "    \n",
    "       videoDataDict['pix_fmt'] = fileInfo['streams'][idx]['pix_fmt']\n",
    "       print('pixel format: ',fileInfo['streams'][idx]['pix_fmt'])\n",
    "    \n",
    "       videoDataDict['avg_frame_rate'] = fileInfo['streams'][idx]['avg_frame_rate']\n",
    "       print('avg frame rate: ',fileInfo['streams'][idx]['avg_frame_rate'])\n",
    "    \n",
    "       videoDataDict['height'] = fileInfo['streams'][idx]['height']\n",
    "       print('height: ',fileInfo['streams'][idx]['height'])\n",
    "    \n",
    "       videoDataDict['width'] = fileInfo['streams'][idx]['width']\n",
    "       print('width: ',fileInfo['streams'][idx]['width'])\n",
    "    \n",
    "       videoDataDict['duration'] = fileInfo['streams'][idx]['duration']\n",
    "       print('duration: ',fileInfo['streams'][idx]['duration'])\n",
    "    \n",
    "       tagDict = fileInfo['streams'][idx]['tags']\n",
    "       if 'rotate' in tagDict.keys():\n",
    "          rotate = tagDict['rotate']\n",
    "       else:\n",
    "          rotate = 0     \n",
    " \n",
    "    if fileInfo['streams'][idx]['codec_type']=='audio':\n",
    "       print('audio codec: ',fileInfo['streams'][idx]['codec_name'])\n",
    "       videoDataDict['audio codec'] = fileInfo['streams'][idx]['codec_name']\n",
    "    \n",
    "       print('audio sample rate: ',fileInfo['streams'][idx]['sample_rate'])\n",
    "       videoDataDict['audio sample rate'] = fileInfo['streams'][idx]['sample_rate']\n",
    "    \n",
    "       print('audio channels: ',fileInfo['streams'][idx]['channels'])\n",
    "       videoDataDict['channels'] = fileInfo['streams'][idx]['channels']\n",
    "    \n",
    "       print('audio channel layout: ',fileInfo['streams'][idx]['channel_layout'])\n",
    "       videoDataDict['channel_layout'] = fileInfo['streams'][idx]['channel_layout']\n",
    "    \n",
    "    if idx==4:\n",
    "        tagDict = fileInfo['format']['tags']\n",
    "        creation_time = tagDict['com.apple.quicktime.creationdate']\n",
    "        videoDataDict['local_creation_time'] = creation_time\n",
    "        print('local_creation_time: ',creation_time)\n",
    "    \n",
    "        \n",
    "formatName = fileInfo['format']['format_long_name']\n",
    "print('formatName: ',formatName)\n",
    "videoDataDict['format'] = formatName\n",
    "\n",
    "videoDF = pd.DataFrame(videoDataDict, index=[0])\n",
    "videoDF"
   ]
  },
  {
   "cell_type": "code",
   "execution_count": null,
   "id": "f216236b",
   "metadata": {},
   "outputs": [],
   "source": []
  }
 ],
 "metadata": {
  "kernelspec": {
   "display_name": "Python 3.11.0 ('bert_env')",
   "language": "python",
   "name": "python3"
  },
  "language_info": {
   "codemirror_mode": {
    "name": "ipython",
    "version": 3
   },
   "file_extension": ".py",
   "mimetype": "text/x-python",
   "name": "python",
   "nbconvert_exporter": "python",
   "pygments_lexer": "ipython3",
   "version": "3.11.0"
  },
  "vscode": {
   "interpreter": {
    "hash": "51c938ebaf7ff51dbfa2f4c808b4b83c4f7647f8b84a2a4494629ce470e2bfcb"
   }
  }
 },
 "nbformat": 4,
 "nbformat_minor": 5
}
