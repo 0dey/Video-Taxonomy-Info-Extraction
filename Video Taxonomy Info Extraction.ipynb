{
 "cells": [
  {
   "cell_type": "code",
   "execution_count": null,
   "id": "01f34920",
   "metadata": {},
   "outputs": [],
   "source": [
    "'''\n",
    "Licensed to the Apache Software Foundation (ASF) under one\n",
    "or more contributor license agreements.  See the NOTICE file\n",
    "distributed with this work for additional information\n",
    "regarding copyright ownership.  The ASF licenses this file\n",
    "to you under the Apache License, Version 2.0 (the\n",
    "\"License\"); you may not use this file except in compliance\n",
    "with the License.  You may obtain a copy of the License at\n",
    "\n",
    "  http://www.apache.org/licenses/LICENSE-2.0\n",
    "\n",
    "Unless required by applicable law or agreed to in writing,\n",
    "software distributed under the License is distributed on an\n",
    "\"AS IS\" BASIS, WITHOUT WARRANTIES OR CONDITIONS OF ANY\n",
    "KIND, either express or implied.  See the License for the\n",
    "specific language governing permissions and limitations\n",
    "under the License.   \n",
    "'''"
   ]
  },
  {
   "cell_type": "code",
   "execution_count": null,
   "id": "eaf97ef4",
   "metadata": {},
   "outputs": [
    {
     "ename": "",
     "evalue": "",
     "output_type": "error",
     "traceback": [
      "\u001b[1;31mRunning cells with 'Python 3.11.0 ('bert_env')' requires ipykernel package.\n",
      "\u001b[1;31mRun the following command to install 'ipykernel' into the Python environment. \n",
      "\u001b[1;31mCommand: 'conda install -n bert_env ipykernel --update-deps --force-reinstall'"
     ]
    }
   ],
   "source": [
    "#Sample code to extract metadata from a video file\n",
    "#\n",
    "# Author: Stephen Heisig\n",
    "# Changes: 3/23/2023"
   ]
  },
  {
   "cell_type": "code",
   "execution_count": 7,
   "id": "dd3b9a18",
   "metadata": {},
   "outputs": [],
   "source": [
    "import ffmpeg\n",
    "import pandas as pd\n",
    "import xlsxwriter"
   ]
  },
  {
   "cell_type": "code",
   "execution_count": 26,
   "id": "21a769b6",
   "metadata": {},
   "outputs": [],
   "source": [
    "#File to process\n",
    "#videoFileName = '/Users/Heisig/Library/CloudStorage/OneDrive-TheMountSinaiHospital/Percept_TRD_MountSinai/Percept_TRD_Analysis/PCT701/VideoDiary/20230309_07_20_35_daily/Video/PCT701_20230309_07_20_35_daily.MOV'\n",
    "videoFileName = '/Users/Heisig/Library/CloudStorage/Box-Box/Summit_TRD_MountSinai/Summit_TRD_Data/RCS814/RCS814_VideoDiary/WIN_20220831_20_07_48_Pro.mp4'"
   ]
  },
  {
   "cell_type": "code",
   "execution_count": 27,
   "id": "3c7bdf63",
   "metadata": {},
   "outputs": [],
   "source": [
    "#Read the file info\n",
    "fileInfo = ffmpeg.probe(videoFileName)"
   ]
  },
  {
   "cell_type": "code",
   "execution_count": 33,
   "id": "e1652fa5",
   "metadata": {},
   "outputs": [
    {
     "name": "stdout",
     "output_type": "stream",
     "text": [
      "idx: 0\n",
      "video\n",
      "video codec:  h264\n",
      "pixel format:  yuv420p\n",
      "avg frame rate:  247230000/8240569\n",
      "height:  1080\n",
      "width:  1920\n",
      "duration:  274.685600\n",
      "idx: 1\n",
      "audio\n",
      "audio codec:  aac\n",
      "audio sample rate:  48000\n",
      "audio channels:  2\n",
      "audio channel layout:  stereo\n",
      "formatName:  QuickTime / MOV\n"
     ]
    },
    {
     "data": {
      "text/html": [
       "<div>\n",
       "<style scoped>\n",
       "    .dataframe tbody tr th:only-of-type {\n",
       "        vertical-align: middle;\n",
       "    }\n",
       "\n",
       "    .dataframe tbody tr th {\n",
       "        vertical-align: top;\n",
       "    }\n",
       "\n",
       "    .dataframe thead th {\n",
       "        text-align: right;\n",
       "    }\n",
       "</style>\n",
       "<table border=\"1\" class=\"dataframe\">\n",
       "  <thead>\n",
       "    <tr style=\"text-align: right;\">\n",
       "      <th></th>\n",
       "      <th>file_name</th>\n",
       "      <th>ParticipantID</th>\n",
       "      <th>genre</th>\n",
       "      <th>video codec</th>\n",
       "      <th>pix_fmt</th>\n",
       "      <th>avg_frame_rate</th>\n",
       "      <th>height</th>\n",
       "      <th>width</th>\n",
       "      <th>duration</th>\n",
       "      <th>audio codec</th>\n",
       "      <th>audio sample rate</th>\n",
       "      <th>channels</th>\n",
       "      <th>channel_layout</th>\n",
       "      <th>format</th>\n",
       "    </tr>\n",
       "  </thead>\n",
       "  <tbody>\n",
       "    <tr>\n",
       "      <th>0</th>\n",
       "      <td>/Users/Heisig/Library/CloudStorage/Box-Box/Sum...</td>\n",
       "      <td>RCS812</td>\n",
       "      <td>diary</td>\n",
       "      <td>h264</td>\n",
       "      <td>yuv420p</td>\n",
       "      <td>247230000/8240569</td>\n",
       "      <td>1080</td>\n",
       "      <td>1920</td>\n",
       "      <td>274.685600</td>\n",
       "      <td>aac</td>\n",
       "      <td>48000</td>\n",
       "      <td>2</td>\n",
       "      <td>stereo</td>\n",
       "      <td>QuickTime / MOV</td>\n",
       "    </tr>\n",
       "  </tbody>\n",
       "</table>\n",
       "</div>"
      ],
      "text/plain": [
       "                                           file_name ParticipantID  genre  \\\n",
       "0  /Users/Heisig/Library/CloudStorage/Box-Box/Sum...        RCS812  diary   \n",
       "\n",
       "  video codec  pix_fmt     avg_frame_rate  height  width    duration  \\\n",
       "0        h264  yuv420p  247230000/8240569    1080   1920  274.685600   \n",
       "\n",
       "  audio codec audio sample rate  channels channel_layout           format  \n",
       "0         aac             48000         2         stereo  QuickTime / MOV  "
      ]
     },
     "execution_count": 33,
     "metadata": {},
     "output_type": "execute_result"
    }
   ],
   "source": [
    "allFilesInfoDF = pd.DataFrame()\n",
    "\n",
    "#Data for this file\n",
    "videoDataDict = {}   \n",
    "videoDataDict['file_name'] = videoFileName\n",
    "videoDataDict['ParticipantID'] = 'RCS812'\n",
    "videoDataDict['genre'] = 'Diary'\n",
    "\n",
    "termList = ['Participant','Genre','Technical']\n",
    "\n",
    "termList = ['video codec','pix_fmt','color_space','avg_frame_rate','height','width',\n",
    "            'duration','rotate','audio codec','audio sample rate','channels','channel_layout',\n",
    "            'local_creation_time','format']\n",
    "    \n",
    "for idx in range(len(fileInfo['streams'])):\n",
    "    print('idx:',idx)\n",
    "    print(fileInfo['streams'][idx]['codec_type'])\n",
    "    if fileInfo['streams'][idx]['codec_type']=='video': \n",
    "       videoDataDict['video codec'] = fileInfo['streams'][idx]['codec_name']\n",
    "       print('video codec: ',fileInfo['streams'][idx]['codec_name']) \n",
    "    \n",
    "       videoDataDict['pix_fmt'] = fileInfo['streams'][idx]['pix_fmt']\n",
    "       print('pixel format: ',fileInfo['streams'][idx]['pix_fmt'])\n",
    "    \n",
    "       videoDataDict['avg_frame_rate'] = fileInfo['streams'][idx]['avg_frame_rate']\n",
    "       print('avg frame rate: ',fileInfo['streams'][idx]['avg_frame_rate'])\n",
    "    \n",
    "       videoDataDict['height'] = fileInfo['streams'][idx]['height']\n",
    "       print('height: ',fileInfo['streams'][idx]['height'])\n",
    "    \n",
    "       videoDataDict['width'] = fileInfo['streams'][idx]['width']\n",
    "       print('width: ',fileInfo['streams'][idx]['width'])\n",
    "    \n",
    "       videoDataDict['duration'] = fileInfo['streams'][idx]['duration']\n",
    "       print('duration: ',fileInfo['streams'][idx]['duration'])\n",
    "    \n",
    "       tagDict = fileInfo['streams'][idx]['tags']\n",
    "       if 'rotate' in tagDict.keys():\n",
    "          rotate = tagDict['rotate']\n",
    "       else:\n",
    "          rotate = 0     \n",
    " \n",
    "    if fileInfo['streams'][idx]['codec_type']=='audio':\n",
    "       print('audio codec: ',fileInfo['streams'][idx]['codec_name'])\n",
    "       videoDataDict['audio codec'] = fileInfo['streams'][idx]['codec_name']\n",
    "    \n",
    "       print('audio sample rate: ',fileInfo['streams'][idx]['sample_rate'])\n",
    "       videoDataDict['audio sample rate'] = fileInfo['streams'][idx]['sample_rate']\n",
    "    \n",
    "       print('audio channels: ',fileInfo['streams'][idx]['channels'])\n",
    "       videoDataDict['channels'] = fileInfo['streams'][idx]['channels']\n",
    "    \n",
    "       print('audio channel layout: ',fileInfo['streams'][idx]['channel_layout'])\n",
    "       videoDataDict['channel_layout'] = fileInfo['streams'][idx]['channel_layout']\n",
    "    \n",
    "    if idx==4:\n",
    "        tagDict = fileInfo['format']['tags']\n",
    "        creation_time = tagDict['com.apple.quicktime.creationdate']\n",
    "        videoDataDict['local_creation_time'] = creation_time\n",
    "        print('local_creation_time: ',creation_time)\n",
    "    \n",
    "        \n",
    "formatName = fileInfo['format']['format_long_name']\n",
    "print('formatName: ',formatName)\n",
    "videoDataDict['format'] = formatName\n",
    "\n",
    "videoDF = pd.DataFrame(videoDataDict, index=[0])\n",
    "videoDF"
   ]
  },
  {
   "cell_type": "code",
   "execution_count": null,
   "id": "f216236b",
   "metadata": {},
   "outputs": [],
   "source": []
  }
 ],
 "metadata": {
  "kernelspec": {
   "display_name": "Python 3.11.0 ('bert_env')",
   "language": "python",
   "name": "python3"
  },
  "language_info": {
   "codemirror_mode": {
    "name": "ipython",
    "version": 3
   },
   "file_extension": ".py",
   "mimetype": "text/x-python",
   "name": "python",
   "nbconvert_exporter": "python",
   "pygments_lexer": "ipython3",
   "version": "3.11.0"
  },
  "vscode": {
   "interpreter": {
    "hash": "51c938ebaf7ff51dbfa2f4c808b4b83c4f7647f8b84a2a4494629ce470e2bfcb"
   }
  }
 },
 "nbformat": 4,
 "nbformat_minor": 5
}
